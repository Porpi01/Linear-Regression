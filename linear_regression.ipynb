{
 "cells": [
  {
   "cell_type": "markdown",
   "id": "63a65ecc",
   "metadata": {},
   "source": [
    "### FORMA 1 - GRADIENT DESCENT"
   ]
  },
  {
   "cell_type": "code",
   "execution_count": 12,
   "id": "8d03a4a5",
   "metadata": {},
   "outputs": [],
   "source": [
    "import numpy as np\n",
    "import matplotlib.pyplot as plt\n",
    "from  sklearn.linear_model import LinearRegression\n",
    "from sklearn.model_selection import train_test_split\n",
    "from IPython.display import clear_output\n",
    "import time\n",
    "import os\n",
    "from PIL import Image\n",
    "import pandas as pd\n"
   ]
  },
  {
   "cell_type": "code",
   "execution_count": 13,
   "id": "86c489d7",
   "metadata": {},
   "outputs": [],
   "source": [
    "X = np.arange(10)\n",
    "y = np.array([ 8,5,4,2,6,7,6,8,9,10])"
   ]
  },
  {
   "cell_type": "code",
   "execution_count": null,
   "id": "a1c32623",
   "metadata": {},
   "outputs": [
    {
     "data": {
      "image/png": "[encoded data removed]",
      "text/plain": [
       "<Figure size 800x600 with 1 Axes>"
      ]
     },
     "metadata": {},
     "output_type": "display_data"
    },
    {
     "name": "stdout",
     "output_type": "stream",
     "text": [
      "\n",
      "Descenso de gradiente finalizado.\n",
      "Final m: 0.4937149755586369\n",
      "Final c: 4.2518529037576815\n"
     ]
    }
   ],
   "source": [
    "# 1. Inicializa los parametros m y c a cero o con valores aleatorios.\n",
    "m = 0\n",
    "c = 4.1 # Modifcando c llegamos al punto óptimo con menos iteraciones\n",
    "\n",
    "# 2. Elegimos un numero de iteraciones y un learning_rate \n",
    "\n",
    "learning_rate = 0.01\n",
    "\n",
    "# Obtener el número de muestras (n) para las derivadas\n",
    "n = len(X)\n",
    "\n",
    "# # Carpeta para guardar imágenes\n",
    "folder = \"imagenes\"\n",
    "os.makedirs(folder, exist_ok=True)\n",
    "\n",
    "# 4. Calculamos la derivada del error respecto de m y c:for i in range(num_iteraciones):\n",
    "\n",
    "for i in range(100):\n",
    "    y_pred = m * X + c\n",
    "\n",
    "    dm = (2/n) * np.sum((y - y_pred) * (-X)) \n",
    "    dc = (2/n) * np.sum((y - y_pred) * (-1)) \n",
    "\n",
    "    m = m - dm * learning_rate\n",
    "    c = c - dc * learning_rate\n",
    "\n",
    "    # === Visualizar en pantalla en cada iteración ===\n",
    "    plt.figure(figsize=(8, 6))\n",
    "    plt.scatter(X, y, color='blue', label='Datos Originales')\n",
    "    plt.plot(X, m * X + c, color='red', linewidth=2, label='Línea de Regresión') \n",
    "    plt.xlabel('X')\n",
    "    plt.ylabel('y')\n",
    "    plt.title(f\"Iteración {i+1} - m: {m:.4f}, c: {c:.4f}\") \n",
    "    clear_output(wait=True) \n",
    "    plt.show()               \n",
    "    time.sleep(0.01)         \n",
    "    plt.close()             \n",
    "\n",
    "    # === Guardar imagen solo cada 20 iteraciones ===\n",
    "    if i == 0 or (i + 1) % 5 == 0:\n",
    "        plt.figure(figsize=(8, 6))\n",
    "        plt.scatter(X, y, color='blue', label='Datos Originales')\n",
    "        plt.plot(X, m * X + c, color='red', linewidth=2, label='Línea de Regresión') \n",
    "        plt.xlabel('X')\n",
    "        plt.ylabel('y')\n",
    "        plt.title(f\"Iteración {i+1} - m: {m:.4f}, c: {c:.4f}\")\n",
    "        plt.savefig(f\"{folder}/plot_{i+1}.png\")\n",
    "        plt.close()        \n",
    "\n",
    "print(\"\\nDescenso de gradiente finalizado.\")\n",
    "print(f\"Final m: {m}\")\n",
    "print(f\"Final c: {c}\")\n",
    "\n"
   ]
  },
  {
   "cell_type": "code",
   "execution_count": 20,
   "id": "07e45e0b",
   "metadata": {},
   "outputs": [],
   "source": [
    "images = []\n",
    "iters_to_load= [1] + list(range(5, 101, 5))\n",
    "durations = []\n",
    "\n",
    "for iter_num in iters_to_load:\n",
    "    filename = os.path.join(folder, f\"plot_{iter_num}.png\")\n",
    "    if os.path.exists(filename):\n",
    "        frame = Image.open(filename)\n",
    "        images.append(frame)\n",
    "        if iter_num <= 100:\n",
    "            durations.append(200)  \n",
    "        else:\n",
    "            durations.append(200)  \n",
    "\n",
    "if images:\n",
    "    images[0].save('gradiente_descenso.gif',\n",
    "                   save_all=True,\n",
    "                   append_images=images[1:],\n",
    "                   duration=durations,\n",
    "                   loop=0)\n",
    "else:\n",
    "    print(\"No hay imágenes para crear el GIF\")\n"
   ]
  },
  {
   "cell_type": "markdown",
   "id": "90e6ed6b",
   "metadata": {},
   "source": [
    "### FORMA 2 - ECUACION NORMAL\n"
   ]
  },
  {
   "cell_type": "code",
   "execution_count": 7,
   "id": "ad540ccc",
   "metadata": {},
   "outputs": [
    {
     "name": "stdout",
     "output_type": "stream",
     "text": [
      "4.345454545454546 0.4787878787878789\n"
     ]
    }
   ],
   "source": [
    "X = X.reshape(-1, 1)\n",
    "# Añadir columna de unos\n",
    "X_1 = np.c_[np.ones((10, 1)), X]\n",
    "\n",
    "best_W = np.linalg.inv(X_1.T.dot(X_1)).dot(X_1.T).dot(y)\n",
    "best_W[0] # intercepto\n",
    "best_W[1] # coeficiente\n",
    "y_pred = best_W[0] + best_W[1] * X \n",
    "print(best_W[0],best_W[1])"
   ]
  },
  {
   "cell_type": "markdown",
   "id": "59d91762",
   "metadata": {},
   "source": [
    "### FORMA 3 - SKLEARN"
   ]
  },
  {
   "cell_type": "code",
   "execution_count": 8,
   "id": "0b0d1860",
   "metadata": {},
   "outputs": [
    {
     "name": "stdout",
     "output_type": "stream",
     "text": [
      "[0.47878788] 4.345454545454546\n"
     ]
    }
   ],
   "source": [
    "X = X.reshape(-1,1)\n",
    "\n",
    "\n",
    "X_train, X_test, y_train, y_test = train_test_split(X, y, test_size=0.20, random_state=42)\n",
    "\n",
    "lr = LinearRegression()\n",
    "lr.fit(X, y)\n",
    "\n",
    "m_sklearn = lr.coef_\n",
    "c_sklearn = lr.intercept_\n",
    "\n",
    "print(m_sklearn,c_sklearn)\n"
   ]
  },
  {
   "cell_type": "code",
   "execution_count": 16,
   "id": "aac61bc2",
   "metadata": {},
   "outputs": [
    {
     "data": {
      "text/html": [
       "<div>\n",
       "<style scoped>\n",
       "    .dataframe tbody tr th:only-of-type {\n",
       "        vertical-align: middle;\n",
       "    }\n",
       "\n",
       "    .dataframe tbody tr th {\n",
       "        vertical-align: top;\n",
       "    }\n",
       "\n",
       "    .dataframe thead th {\n",
       "        text-align: right;\n",
       "    }\n",
       "</style>\n",
       "<table border=\"1\" class=\"dataframe\">\n",
       "  <thead>\n",
       "    <tr style=\"text-align: right;\">\n",
       "      <th></th>\n",
       "      <th>Método</th>\n",
       "      <th>m (pendiente)</th>\n",
       "      <th>c (intercepto)</th>\n",
       "    </tr>\n",
       "  </thead>\n",
       "  <tbody>\n",
       "    <tr>\n",
       "      <th>0</th>\n",
       "      <td>Descenso de Gradiente</td>\n",
       "      <td>0.493715</td>\n",
       "      <td>4.251853</td>\n",
       "    </tr>\n",
       "    <tr>\n",
       "      <th>1</th>\n",
       "      <td>Ecuación Normal</td>\n",
       "      <td>0.478788</td>\n",
       "      <td>4.345455</td>\n",
       "    </tr>\n",
       "    <tr>\n",
       "      <th>2</th>\n",
       "      <td>Sklearn</td>\n",
       "      <td>[0.4787878787878788]</td>\n",
       "      <td>4.345455</td>\n",
       "    </tr>\n",
       "  </tbody>\n",
       "</table>\n",
       "</div>"
      ],
      "text/plain": [
       "                  Método         m (pendiente)  c (intercepto)\n",
       "0  Descenso de Gradiente              0.493715        4.251853\n",
       "1        Ecuación Normal              0.478788        4.345455\n",
       "2                Sklearn  [0.4787878787878788]        4.345455"
      ]
     },
     "execution_count": 16,
     "metadata": {},
     "output_type": "execute_result"
    }
   ],
   "source": [
    "# === Tabla comparativa ===\n",
    "tabla = pd.DataFrame({\n",
    "    'Método': ['Descenso de Gradiente', 'Ecuación Normal', \"Sklearn\"],\n",
    "    'm (pendiente)': [m, best_W[1], m_sklearn],\n",
    "    'c (intercepto)': [c, best_W[0], c_sklearn]\n",
    "})\n",
    "\n",
    "tabla"
   ]
  }
 ],
 "metadata": {
  "kernelspec": {
   "display_name": "data_analysis_env",
   "language": "python",
   "name": "python3"
  },
  "language_info": {
   "codemirror_mode": {
    "name": "ipython",
    "version": 3
   },
   "file_extension": ".py",
   "mimetype": "text/x-python",
   "name": "python",
   "nbconvert_exporter": "python",
   "pygments_lexer": "ipython3",
   "version": "3.11.11"
  }
 },
 "nbformat": 4,
 "nbformat_minor": 5
}
