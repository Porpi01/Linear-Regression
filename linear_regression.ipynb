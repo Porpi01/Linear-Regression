{
 "cells": [
  {
   "cell_type": "markdown",
   "id": "63a65ecc",
   "metadata": {},
   "source": [
    "### FORMA 1 - GRADIENT DESCENT"
   ]
  },
  {
   "cell_type": "code",
   "execution_count": 120,
   "id": "8d03a4a5",
   "metadata": {},
   "outputs": [],
   "source": [
    "import numpy as np\n",
    "import matplotlib.pyplot as plt\n",
    "from  sklearn.linear_model import LinearRegression\n",
    "from sklearn.model_selection import train_test_split\n",
    "from IPython.display import clear_output\n",
    "import time\n",
    "import os\n",
    "from PIL import Image\n",
    "import pandas as pd\n"
   ]
  },
  {
   "cell_type": "code",
   "execution_count": 2,
   "id": "86c489d7",
   "metadata": {},
   "outputs": [],
   "source": [
    "X = np.arange(10)\n",
    "y = np.array([ 2,2,4,2,5,7,6,9,8,10])"
   ]
  },
  {
   "cell_type": "code",
   "execution_count": null,
   "id": "a1c32623",
   "metadata": {},
   "outputs": [
    {
     "data": {
      "image/png": "[encoded data removed]",
      "text/plain": [
       "<Figure size 800x600 with 1 Axes>"
      ]
     },
     "metadata": {},
     "output_type": "display_data"
    },
    {
     "name": "stdout",
     "output_type": "stream",
     "text": [
      "\n",
      "Descenso de gradiente finalizado.\n",
      "Final m: 0.9334064739463076\n",
      "Final c: 1.2888105422131046\n"
     ]
    }
   ],
   "source": [
    "# 1. Inicializa los parametros m y c a cero o con valores aleatorios.\n",
    "m = 0\n",
    "c = 0 \n",
    "\n",
    "# 2. Elegimos un numero de iteraciones y un learning_rate \n",
    "\n",
    "learning_rate = 0.01\n",
    "\n",
    "# 3. Inicializamos valores para X e Y.\n",
    "X = np.arange(10) \n",
    "y = np.array([2, 2, 4, 2, 5, 7, 6, 9, 8, 10])\n",
    "\n",
    "# Obtener el número de muestras (n) para las derivadas\n",
    "n = len(X)\n",
    "\n",
    "# # Carpeta para guardar imágenes\n",
    "folder = \"imagenes\"\n",
    "os.makedirs(folder, exist_ok=True)\n",
    "\n",
    "# 4. Calculamos la derivada del error respecto de m y c:for i in range(num_iteraciones):\n",
    "\n",
    "for i in range(600):\n",
    "    y_pred = m * X + c\n",
    "\n",
    "    dm = (2/n) * np.sum((y - y_pred) * (-X)) \n",
    "    dc = (2/n) * np.sum((y - y_pred) * (-1)) \n",
    "\n",
    "    m = m - dm * learning_rate\n",
    "    c = c - dc * learning_rate\n",
    "\n",
    "    # === Visualizar en pantalla en cada iteración ===\n",
    "    plt.figure(figsize=(8, 6))\n",
    "    plt.scatter(X, y, color='blue', label='Datos Originales')\n",
    "    plt.plot(X, m * X + c, color='red', linewidth=2, label='Línea de Regresión') \n",
    "    plt.xlabel('X')\n",
    "    plt.ylabel('y')\n",
    "    plt.title(f\"Iteración {i+1} - m: {m:.4f}, c: {c:.4f}\") \n",
    "    clear_output(wait=True) \n",
    "    plt.show()               \n",
    "    time.sleep(0.01)         \n",
    "    plt.close()             \n",
    "\n",
    "    # === Guardar imagen solo cada 20 iteraciones ===\n",
    "    if i == 0 or (i + 1) % 10 == 0:\n",
    "        plt.figure(figsize=(8, 6))\n",
    "        plt.scatter(X, y, color='blue', label='Datos Originales')\n",
    "        plt.plot(X, m * X + c, color='red', linewidth=2, label='Línea de Regresión') \n",
    "        plt.xlabel('X')\n",
    "        plt.ylabel('y')\n",
    "        plt.title(f\"Iteración {i+1} - m: {m:.4f}, c: {c:.4f}\")\n",
    "        plt.savefig(f\"{folder}/plot_{i+1}.png\")\n",
    "        plt.close()        \n",
    "\n",
    "print(\"\\nDescenso de gradiente finalizado.\")\n",
    "print(f\"Final m: {m}\")\n",
    "print(f\"Final c: {c}\")\n",
    "\n"
   ]
  },
  {
   "cell_type": "code",
   "execution_count": 122,
   "id": "07e45e0b",
   "metadata": {},
   "outputs": [],
   "source": [
    "images = []\n",
    "iters_to_load = [1] + list(range(10, 601, 10)) \n",
    "durations = []\n",
    "\n",
    "for iter_num in iters_to_load:\n",
    "    filename = os.path.join(folder, f\"plot_{iter_num}.png\")\n",
    "    if os.path.exists(filename):\n",
    "        frame = Image.open(filename)\n",
    "        images.append(frame)\n",
    "        if iter_num <= 100:\n",
    "            durations.append(200)  \n",
    "        else:\n",
    "            durations.append(200)  \n",
    "    else:\n",
    "        print(f\"Archivo no encontrado: {filename}\")\n",
    "\n",
    "if images:\n",
    "    images[0].save('gradiente_descenso.gif',\n",
    "                   save_all=True,\n",
    "                   append_images=images[1:],\n",
    "                   duration=durations,\n",
    "                   loop=0)\n",
    "else:\n",
    "    print(\"No hay imágenes para crear el GIF\")\n"
   ]
  },
  {
   "cell_type": "markdown",
   "id": "90e6ed6b",
   "metadata": {},
   "source": [
    "### FORMA 2 - ECUACION NORMAL\n"
   ]
  },
  {
   "cell_type": "code",
   "execution_count": 28,
   "id": "ad540ccc",
   "metadata": {},
   "outputs": [
    {
     "name": "stdout",
     "output_type": "stream",
     "text": [
      "1.3272727272727276 0.9272727272727272\n"
     ]
    }
   ],
   "source": [
    "X = X.reshape(-1, 1)\n",
    "# Añadir columna de unos\n",
    "X_1 = np.c_[np.ones((10, 1)), X]\n",
    "\n",
    "best_W = np.linalg.inv(X_1.T.dot(X_1)).dot(X_1.T).dot(y)\n",
    "best_W[0] # intercepto\n",
    "best_W[1] # coeficiente\n",
    "y_pred = best_W[0] + best_W[1] * X \n",
    "print(best_W[0],best_W[1])"
   ]
  },
  {
   "cell_type": "markdown",
   "id": "59d91762",
   "metadata": {},
   "source": [
    "### FORMA 3 - SKLEARN"
   ]
  },
  {
   "cell_type": "code",
   "execution_count": 79,
   "id": "0b0d1860",
   "metadata": {},
   "outputs": [
    {
     "name": "stdout",
     "output_type": "stream",
     "text": [
      "[0.92727273] 1.3272727272727272\n"
     ]
    }
   ],
   "source": [
    "X = np.arange(10).reshape(-1,1)\n",
    "y = np.array([ 2,2,4,2,5,7,6,9,8,10])\n",
    "\n",
    "X_train, X_test, y_train, y_test = train_test_split(X, y, test_size=0.20, random_state=42)\n",
    "\n",
    "lr = LinearRegression()\n",
    "lr.fit(X, y)\n",
    "\n",
    "m_sklearn = lr.coef_\n",
    "c_sklearn = lr.intercept_\n",
    "\n",
    "print(m_sklearn,c_sklearn)\n"
   ]
  },
  {
   "cell_type": "code",
   "execution_count": 87,
   "id": "1530a53c",
   "metadata": {},
   "outputs": [
    {
     "data": {
      "text/html": [
       "<div>\n",
       "<style scoped>\n",
       "    .dataframe tbody tr th:only-of-type {\n",
       "        vertical-align: middle;\n",
       "    }\n",
       "\n",
       "    .dataframe tbody tr th {\n",
       "        vertical-align: top;\n",
       "    }\n",
       "\n",
       "    .dataframe thead th {\n",
       "        text-align: right;\n",
       "    }\n",
       "</style>\n",
       "<table border=\"1\" class=\"dataframe\">\n",
       "  <thead>\n",
       "    <tr style=\"text-align: right;\">\n",
       "      <th></th>\n",
       "      <th>Método</th>\n",
       "      <th>m (pendiente)</th>\n",
       "      <th>c (intercepto)</th>\n",
       "    </tr>\n",
       "  </thead>\n",
       "  <tbody>\n",
       "    <tr>\n",
       "      <th>0</th>\n",
       "      <td>Descenso de Gradiente</td>\n",
       "      <td>0.933406</td>\n",
       "      <td>1.288811</td>\n",
       "    </tr>\n",
       "    <tr>\n",
       "      <th>1</th>\n",
       "      <td>Ecuación normal</td>\n",
       "      <td>[0.9272727272727274]</td>\n",
       "      <td>1.327273</td>\n",
       "    </tr>\n",
       "    <tr>\n",
       "      <th>2</th>\n",
       "      <td>Sklearn</td>\n",
       "      <td>0.927273</td>\n",
       "      <td>1.327273</td>\n",
       "    </tr>\n",
       "  </tbody>\n",
       "</table>\n",
       "</div>"
      ],
      "text/plain": [
       "                  Método         m (pendiente)  c (intercepto)\n",
       "0  Descenso de Gradiente              0.933406        1.288811\n",
       "1        Ecuación normal  [0.9272727272727274]        1.327273\n",
       "2                Sklearn              0.927273        1.327273"
      ]
     },
     "execution_count": 87,
     "metadata": {},
     "output_type": "execute_result"
    }
   ],
   "source": [
    "tabla = pd.DataFrame({\n",
    "    \n",
    "    \"Método\": [\"Descenso de Gradiente\", \"Ecuación normal\",\"Sklearn\" ],\n",
    "    \"m (pendiente)\": [m, m_sklearn, best_W[1]],\n",
    "    \"c (intercepto)\": [c, c_sklearn, best_W[0]]\n",
    "})\n",
    "\n",
    "tabla"
   ]
  }
 ],
 "metadata": {
  "kernelspec": {
   "display_name": "data_analysis_env",
   "language": "python",
   "name": "python3"
  },
  "language_info": {
   "codemirror_mode": {
    "name": "ipython",
    "version": 3
   },
   "file_extension": ".py",
   "mimetype": "text/x-python",
   "name": "python",
   "nbconvert_exporter": "python",
   "pygments_lexer": "ipython3",
   "version": "3.11.11"
  }
 },
 "nbformat": 4,
 "nbformat_minor": 5
}
